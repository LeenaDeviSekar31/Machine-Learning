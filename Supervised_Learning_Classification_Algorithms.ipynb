{
  "nbformat": 4,
  "nbformat_minor": 0,
  "metadata": {
    "colab": {
      "provenance": []
    },
    "kernelspec": {
      "name": "python3",
      "display_name": "Python 3"
    },
    "language_info": {
      "name": "python"
    }
  },
  "cells": [
    {
      "cell_type": "code",
      "execution_count": 13,
      "metadata": {
        "id": "5A_lP3q6Prmw"
      },
      "outputs": [],
      "source": [
        "#imports\n",
        "import numpy as np\n",
        "import sklearn, sklearn.tree, sklearn.ensemble\n",
        "import matplotlib.pyplot as plt\n",
        "import pandas as pd\n",
        "import sklearn.metrics as metrics\n",
        "from sklearn.model_selection import train_test_split\n",
        "from sklearn.preprocessing import OneHotEncoder, StandardScaler\n",
        "\n",
        "#erad the csv file\n",
        "dataset = pd.read_csv('https://storage.googleapis.com/neurals/data/Social_Network_Ads.csv')\n",
        "\n",
        "#removing fields which has no meaning\n",
        "dataset = dataset.drop(columns=['User ID'])\n",
        "\n",
        "#display top 5 entries in the dataset\n",
        "dataset.head(5)\n",
        "\n",
        "#convert categorical variable to continuous variable usinh onehotencoding\n",
        "enc = sklearn.preprocessing.OneHotEncoder()\n",
        "enc.fit(dataset.iloc[:,[0]])\n",
        "onehotlabels = enc.transform(dataset.iloc[:,[0]]).toarray()\n",
        "genders = pd.DataFrame({'Female':onehotlabels[:,0],'Male':onehotlabels[:,1]})\n",
        "#removing gender column from the dataset and concatinating it with the newly created continuous gender column\n",
        "result = pd.concat([genders,dataset.iloc[:,1:]],axis=1, sort = False)\n",
        "\n",
        "\n",
        "#actual label\n",
        "y = result['Purchased']\n",
        "#remove actual label from the dataset\n",
        "X = result.drop(columns=['Purchased'])\n",
        "X.head(5)\n",
        "\n",
        "\n",
        "#train test split\n",
        "X_train, X_test,y_train, y_test= train_test_split(X,y,test_size=0.25,random_state=0)\n",
        "\n",
        "#feature scaling\n",
        "sc = StandardScaler()\n",
        "X_train = sc.fit_transform(X_train)\n",
        "X_test = sc.transform(X_test)"
      ]
    },
    {
      "cell_type": "code",
      "source": [
        "#Decision Tree (DT) algorithm\n",
        "classifier = sklearn.tree.DecisionTreeClassifier(criterion = \"entropy\",random_state = 100, max_depth=2)\n",
        "classifier = classifier.fit(X_train,y_train)\n",
        "#prediction\n",
        "y_pred = classifier.predict(X_test)\n",
        "\n",
        "#evaluation metrics\n",
        "cm = metrics.confusion_matrix(y_test,y_pred)\n",
        "accuracy = metrics.accuracy_score(y_test,y_pred)\n",
        "recall = metrics.recall_score(y_test,y_pred)\n",
        "precision = metrics.precision_score(y_test,y_pred)\n",
        "print(f\"Accuracy of DT algorithm :{accuracy}\\nRecall value of DT algorithm: {recall}\\nPrecision value of DT algorithm: {precision}\")"
      ],
      "metadata": {
        "id": "l-2Xry67QurT",
        "colab": {
          "base_uri": "https://localhost:8080/"
        },
        "outputId": "33bbf33b-5482-4068-a26a-edcb0bf76c32"
      },
      "execution_count": 7,
      "outputs": [
        {
          "output_type": "stream",
          "name": "stdout",
          "text": [
            "Accuracy of DT algorithm :0.94\n",
            "Recall value of DT algorithm: 0.9375\n",
            "Precision value of DT algorithm: 0.8823529411764706\n"
          ]
        }
      ]
    },
    {
      "cell_type": "code",
      "source": [
        "#Gradient Boosting using XGBoost\n",
        "\n",
        "from xgboost import XGBClassifier\n",
        "classifier = XGBClassifier()\n",
        "classifier.fit(X_train,y_train)\n",
        "\n",
        "#prediction\n",
        "y_pred = classifier.predict(X_test)\n",
        "\n",
        "#evaluation metrics\n",
        "cm = metrics.confusion_matrix(y_test,y_pred) #cm means confusion matrix\n",
        "accuracy = metrics.accuracy_score(y_test,y_pred)\n",
        "recall = metrics.recall_score(y_test,y_pred)\n",
        "precision = metrics.precision_score(y_test,y_pred)\n",
        "print(f\"Accuracy of XGB:{accuracy}\\nRecall value of XGB: {recall}\\nPrecision value of XGB: {precision}\")"
      ],
      "metadata": {
        "colab": {
          "base_uri": "https://localhost:8080/"
        },
        "id": "P5WJiJnzOICo",
        "outputId": "ad246c0f-5709-49e7-90ee-8e1a64c609ed"
      },
      "execution_count": 10,
      "outputs": [
        {
          "output_type": "stream",
          "name": "stdout",
          "text": [
            "Accuracy of XGB:0.91\n",
            "Recall value of XGB: 0.84375\n",
            "Precision value of XGB: 0.8709677419354839\n"
          ]
        }
      ]
    },
    {
      "cell_type": "code",
      "source": [
        "#Random Forest(RF) Algorithm\n",
        "classifier = sklearn.ensemble.RandomForestClassifier(n_estimators = 10, max_depth=4,criterion = \"entropy\",random_state=0)\n",
        "classifier.fit(X_train,y_train)\n",
        "\n",
        "#prediction\n",
        "y_pred = classifier.predict(X_test)\n",
        "\n",
        "#evaluation metrics\n",
        "cm = metrics.confusion_matrix(y_test,y_pred)\n",
        "accuracy = metrics.accuracy_score(y_test,y_pred)\n",
        "recall = metrics.recall_score(y_test,y_pred)\n",
        "precision = metrics.precision_score(y_test,y_pred)\n",
        "print(f\"Accuracy of RF algorithm :{accuracy}\\nRecall value of RF algorithm : {recall}\\nPrecision value of RF algorithm : {precision}\")"
      ],
      "metadata": {
        "colab": {
          "base_uri": "https://localhost:8080/"
        },
        "id": "gEMYKG5gSkVV",
        "outputId": "734ce238-d654-4943-b90f-8bc6cde8d679"
      },
      "execution_count": 15,
      "outputs": [
        {
          "output_type": "stream",
          "name": "stdout",
          "text": [
            "Accuracy of RF algorithm :0.93\n",
            "Recall value of RF algorithm : 0.90625\n",
            "Precision value of RF algorithm : 0.8787878787878788\n"
          ]
        }
      ]
    }
  ]
}